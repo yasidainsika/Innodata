{
 "cells": [
  {
   "cell_type": "code",
   "id": "initial_id",
   "metadata": {
    "collapsed": true,
    "ExecuteTime": {
     "end_time": "2024-07-22T10:48:47.297138Z",
     "start_time": "2024-07-22T10:48:47.294215Z"
    }
   },
   "source": [
    "import fitz  # PyMuPDF\n",
    "import json\n",
    "import os\n",
    "from langchain_core.prompts import ChatPromptTemplate\n",
    "from langchain_groq import ChatGroq"
   ],
   "outputs": [],
   "execution_count": 13
  },
  {
   "metadata": {
    "ExecuteTime": {
     "end_time": "2024-07-22T10:48:47.323887Z",
     "start_time": "2024-07-22T10:48:47.298137Z"
    }
   },
   "cell_type": "code",
   "source": [
    "# Initialize Groq Chat Model\n",
    "chat = ChatGroq(\n",
    "    temperature=0,\n",
    "    model=\"llama3-70b-8192\",\n",
    "    api_key=\"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\"\n",
    ")"
   ],
   "id": "fc927870ba8088aa",
   "outputs": [],
   "execution_count": 14
  },
  {
   "metadata": {
    "ExecuteTime": {
     "end_time": "2024-07-22T10:48:47.328820Z",
     "start_time": "2024-07-22T10:48:47.324891Z"
    }
   },
   "cell_type": "code",
   "source": [
    "# Define the prompt for extracting references\n",
    "system_prompt = \"You are a helpful assistant that extracts references from provided text and returns them in the exact format they appear.\"\n",
    "human_prompt_template = \"\"\"\n",
    "{text}\n",
    "Extract the references from the text above and ensure they are in the same format as the original document. Do not include any introductory phrases or unrelated content. Only return the references.\n",
    "\"\"\"\n",
    "\n",
    "prompt = ChatPromptTemplate.from_messages([(\"system\", system_prompt), (\"human\", human_prompt_template)])\n",
    "\n",
    "chain = prompt | chat"
   ],
   "id": "44b908fb320e25dd",
   "outputs": [],
   "execution_count": 15
  },
  {
   "metadata": {
    "ExecuteTime": {
     "end_time": "2024-07-22T10:48:47.334415Z",
     "start_time": "2024-07-22T10:48:47.330833Z"
    }
   },
   "cell_type": "code",
   "source": [
    "# Function to extract text from a PDF page\n",
    "def extract_text_from_page(page):\n",
    "    text = page.get_text(\"text\")\n",
    "    return text"
   ],
   "id": "b6e7e25d3f89a942",
   "outputs": [],
   "execution_count": 16
  },
  {
   "metadata": {
    "ExecuteTime": {
     "end_time": "2024-07-22T10:48:47.342761Z",
     "start_time": "2024-07-22T10:48:47.335426Z"
    }
   },
   "cell_type": "code",
   "source": [
    "# Function to filter and clean the extracted references\n",
    "def clean_references(raw_references):\n",
    "    cleaned_references = []\n",
    "    unwanted_phrases = [\n",
    "        \"Here are the extracted references in the same format as the original document:\",\n",
    "        \"Here are the extracted references:\",\n",
    "        \"\"\n",
    "    ]\n",
    "    for reference in raw_references:\n",
    "        if reference.strip() not in unwanted_phrases:\n",
    "            cleaned_references.append(reference.strip())\n",
    "    return cleaned_references"
   ],
   "id": "185e5af885a49463",
   "outputs": [],
   "execution_count": 17
  },
  {
   "metadata": {
    "ExecuteTime": {
     "end_time": "2024-07-22T10:48:47.348381Z",
     "start_time": "2024-07-22T10:48:47.343848Z"
    }
   },
   "cell_type": "code",
   "source": [
    "def find_duplicate_pages(pdf_document):\n",
    "    pages_content = {}\n",
    "    duplicate_pages = {}\n",
    "\n",
    "    for page_num in range(pdf_document.page_count):\n",
    "        text = extract_text_from_page(pdf_document.load_page(page_num))\n",
    "        if text in pages_content:\n",
    "            duplicate_pages[page_num] = pages_content[text]\n",
    "        else:\n",
    "            pages_content[text] = page_num\n",
    "\n",
    "    return duplicate_pages"
   ],
   "id": "a6ad2fb0399c2adc",
   "outputs": [],
   "execution_count": 18
  },
  {
   "metadata": {
    "ExecuteTime": {
     "end_time": "2024-07-22T10:52:18.969393Z",
     "start_time": "2024-07-22T10:52:00.875597Z"
    }
   },
   "cell_type": "code",
   "source": [
    "with open(\"pdf_pages_info.json\", \"r\") as json_file:\n",
    "        pdf_pages_info = json.load(json_file)\n",
    "\n",
    "# Create the output directory if it doesn't exist\n",
    "output_dir = \"out\"\n",
    "os.makedirs(output_dir, exist_ok=True)\n",
    "\n",
    "for pdf_name, pages_input in pdf_pages_info.items():\n",
    "    pdf_path = f\"sample-pdfs2/{pdf_name}\"\n",
    "\n",
    "    # Open the PDF to get the total number of pages\n",
    "    pdf_document = fitz.open(pdf_path)\n",
    "    total_pages = pdf_document.page_count\n",
    "    print(f\"The document '{pdf_name}' has {total_pages} pages.\")\n",
    "\n",
    "    duplicate_pages = find_duplicate_pages(pdf_document)\n",
    "\n",
    "    pages = [int(x) - 1 for x in pages_input]\n",
    "    all_text = \"\"\n",
    "    for page_num in pages:\n",
    "        if page_num in duplicate_pages:\n",
    "            page_num = duplicate_pages[page_num]\n",
    "        if 0 <= page_num < total_pages:\n",
    "            page = pdf_document.load_page(page_num)\n",
    "            all_text += extract_text_from_page(page) + \"\\n\"\n",
    "\n",
    "    # Use Groq API to extract references from the combined text\n",
    "    references = chain.invoke({\"text\": all_text})\n",
    "\n",
    "    # Display the raw output for debugging purposes\n",
    "    raw_references = references.content.strip().split(\"\\n\")\n",
    "    print(f\"Raw extracted references for '{pdf_name}': {raw_references}\")\n",
    "\n",
    "    # Clean the references\n",
    "    cleaned_references = clean_references(raw_references)\n",
    "\n",
    "    # Prepare the result\n",
    "    result = {\n",
    "        \"id\": pdf_name,\n",
    "        \"references\": cleaned_references\n",
    "    }\n",
    "\n",
    "    output_filename = f\"{os.path.splitext(pdf_name)[0]}.json\"\n",
    "    output_path = os.path.join(output_dir, output_filename)\n",
    "    with open(output_path, \"w\", encoding=\"utf-8\") as output_file:\n",
    "        json.dump(result, output_file, indent=4, ensure_ascii=False)\n",
    "\n",
    "    print(f\"Saved extracted references to '{output_path}'\")"
   ],
   "id": "17a9cc72ff87f2c8",
   "outputs": [
    {
     "name": "stdout",
     "output_type": "stream",
     "text": [
      "The document '2211.04388.pdf' has 84 pages.\n",
      "Raw extracted references for '2211.04388.pdf': ['Here are the extracted references:', '', 'Altshuler, R., Grubert, H., & Newlon, T. S. (2000). Has U.S. Investment Abroad Become More Sensitive to Tax Rates? International Taxation and Multinational Activity (pp. 9–38). NBER.', '', 'Alvarez Martinez, M. T., Barrios, S., Bettendorf, L., d’Andria, D., Gesualdo, M., Loretz, S., Pontikakis, D., & Pycroft, J. (2016). A New Calibration for CORTAX: A computable general equilibrium model for simulating corporate tax reforms. JRC Working Papers on Taxation and Structural Reforms.', '', 'Arkolakis, C., Costinot, A., & Rodriguez-Clare, A. (2012). New Trade Models, Same Old Gains? American Economic Review, 102(1), 94–130.', '', 'Arkolakis, C., Ramondo, N., Rodríguez-Clare, A., & Yeaple, S. (2018). Innovation and production in the global economy. American Economic Review, 108(8), 2128–73.', '', 'Auerbach, A. J., Devereux, M. P., Keen, M., & Vella, J. (2017). International Tax Planning Under the Detination-Based Cash Flow Tax. National Tax Journal, 70(4), 783–802.', '', 'Baraké, M., Neef, T., Chouc, P.-E., & Zucman, G. (2021). Collecting the tax deficit of multinational companies simulations for the European Union (Report No. 1). EU Tax Observatory.', '', 'Barbiero, O., Farhi, E., Gopinath, G., & Itskhoki, O. (2019). The macroeconomics of border taxes. NBER Macroeconomics Annual, 33(1), 395–457.', '', 'Becker, J., & Englisch, J. (2020). Unilateral introduction of destination-based cash-flow taxation. International Tax and Public Finance, 27(3), 495–513.', '', 'Beer, S., de Mooij, R., & Liu, L. (2020). International Corporate Tax Avoidance: A Review Of The Channels, Magnitudes, And Blind Spots. Journal of Economic Surveys, 34(3), 660–688.', '', 'Bilicka, K. (2019). Comparing UK Tax Returns of Foreign Multinationals to Matched Domestic Firms. American Economic Review, 109(8), 2921–53.', '', 'Bilicka, K., Devereux, M., & Guçeri, I. (2022a). Tax Policy, Investment and Profit-Shifting. mimeo.', '', 'Bilicka, K., Qi, Y., & Xing, J. (2020). Geographical Diversification of Tax Havens: How Did the Use of Tax Haven Subsidiaries Change in Recent Years? (mimeo).', '', 'Bilicka, K., Qi, Y., & Xing, J. (2022b). Real Responses to Anti-Tax Avoidance: Evidence from the UK Worldwide Debt Cap. Journal of Public Economics, 214(104742).', '', 'Blouin, J., & Robinson, L. A. (2021). Double Counting Accounting: How Much Profit of Multinational Enterprises Is Really in Tax Havens? (SSRN Working Paper).', '', 'Bratta, B., Santomartino, V., & Acciari, P. (2021). Assessing profit shifting using Country-by-Country Reports: a non-linear response to tax rate differentials (Working Papers wp2021-11). Ministry of Economy and Finance.', '', 'Clausing, K. A. (2016). The Effect of Profit Shifting on the Corporate Tax Base in the United States and Beyond. National Tax Journal, 69(4), 905–934.', '', 'Clausing, K. A. (2020). Profit Shifting before and after the Tax Cuts and Jobs Act. National Tax Journal, 73(4), 1233–1266.', '', 'Cobham, A., Garcia-Bernardo, J., Palansky, M., & Bou Mansour, M. (2020). The State of Tax Justice 2020. Tax Justice Network.', '', 'Coles, J. L., Patel, E., Seegert, N., & Smith, M. (2022). How Do Firms Respond to Corporate Taxes? Journal of Accounting Research, 60(3), 965–1006.', '', 'Costinot, A., & Rodriguez-Clare, A. (2014). Trade Theory With Numbers: Quantifying The Consequences of Globalization. Handbook of International Economics (pp. 197–261). Elsevier.', '', 'Costinot, A., & Werning, I. (2019). Lerner symmetry: A modern treatment. American Economic Review: Insights, 1(1), 13–26.', '', 'Damgaard, J., Elkjaer, T., & Johannesen, N. (2019). What Is Real and What Is Not in the Global FDI Network? (IMF Working Paper). International Monetary Fund.', '', 'De Loecker, J., Eeckhout, J., & Unger, G. (2020). The rise of market power and the macroeconomic implications. The Quarterly Journal of Economics, 135(2), 561–644.', '', 'De Loecker, J., & Warzynski, F. (2012). Markups and firm-level export status. American economic review, 102(6), 2437–71.', '', 'de Mooij, R., & Liu, L. (2020). At a Cost: The Real Effects of Transfer Pricing Regulations. IMF Economic Review, 68(1), 268–306.', '', 'de Mooij, R., & Liu, L. (2021). At a Cost: The Real Effects of Thin Capitalization Rules. Economics Letters, 200, 109745.', '', 'Dekle, R., Eaton, J., & Kortum, S. (2007). Unbalanced Trade. American Economic Review, 97(2), 351–355.', '', 'Desai, M. A., Foley, C. F., & Hines, J. R. (2006). The Demand for Tax Haven Operations. Journal of Public Economics, 90(3), 513–531.', '', 'Devereux, M. P., Auerbach, A. J., Keen, M., Oosterhuis, P., Schön, W., & Vella, J. (2021). Taxing Profit in a Global Economy. Oxford University Press.', '', 'Dhingra, S., & Morrow, J. (2019). Monopolistic Competition and Optimum Product Diversity under Firm Heterogeneity. Journal of Political Economy, 127(1), 196–232.', '', 'Dixit, A. K., & Stiglitz, J. E. (1977). Monopolistic Competition and Optimum Product Diversity. The American Economic Review, 67(3), 297–308.', '', 'Dowd, T., Landefeld, P., & Moore, A. (2017). Profit shifting of U.S. multinationals. Journal of Public Economics, 148, 1–13.', '', 'Dyrda, S., Hong, G., & Steinberg, J. (2023). A macroeconomic perspective on taxing multinational enterprises (SSRN Working Paper).', '', 'Dyreng, S. D., & Lindsey, B. P. (2009). Using Financial Accounting Data to Examine the Effect of Foreign Operations Located in Tax Havens and Other Countries on U. S. Multinational Firms’ Tax Rates. Journal of Accounting Research, 47(5), 1283–1316.', '', 'Egger, P. H., & Wamser, G. (2015). The impact of controlled foreign company legislation on real investments abroad. A multi-dimensional regression discontinuity design. Journal of Public Economics, 129, 77–91.', '', 'Englisch, J., & Becker, J. (2019). International effective minimum taxation – the GLOBE proposal. World tax journal : WTJ, 11(4), 483–529.', '', 'Fajgelbaum, P. D., Morales, E., Serrato, J. C. S., & Zidar, O. (2019). State Taxes and Spatial Misallocation. Review of Economic Studies, 86(1), 333–376.', '', 'Fuest, C., Hugger, F., & Neumeier, F. (2021). Corporate Profit Shifting and the Role of Tax Havens: Evidence from German Country-By-Country Reporting Data (CESifo Working Paper). CESifo.', '', 'Fuest, C., Parenti, M., & Toubal, F. (2019). International corporate taxation: What reforms? What impact? Notes du conseil d’analyse economique, (6), 1–12.', '', 'Garcia-Bernardo, J., Fichtner, J., Takes, F. W., & Heemskerk, E. M. (2017). Uncovering Offshore Financial Centers: Conduits and Sinks in the Global Corporate Ownership Network. Scientific Reports, 7(1), 6246.', '', 'Garcia-Bernardo, J., & Jansky, P. (2021). Profit Shifting of Multinational Corporations Worldwide (Working Papers IES No. 2021/14). Charles University Prague.', '', 'Garcia-Bernardo, J., Jansky, P., & Tørsløv, T. (2021). Multinational corporations and tax havens: evidence from country-by-country reporting. International Tax and Public Finance, 1–43.', '', 'Gravelle, J. G. (2015). Tax Havens: International Tax Avoidance and Evasion. Congressional Research Service.', '', 'Gruber, J., & Rauh, J. (2007). How Elastic Is the Corporate Income Tax Base? In A. J. Auerbach, J. R. Hines Jr., & J. Slemrod (Eds.), Taxing Corporate Income in the 21st Century (pp. 140–163). Cambridge University Press.', '', 'Grubert, H., & Mutti, J. (1991). Taxes, Tariffs and Transfer Pricing in Multinational Corporate Decision Making. The Review of Economics and Statistics, 73(2), 285–293.', '', 'Grubert, H., & Mutti, J. (2000). Do Taxes Influence Where U.S. Corporations Invest? National Tax Journal, 53(4), 825–40.', '', 'Grubert, H., & Slemrod, J. (1998). The Effect of Taxes on Investment and Income Shifting to Puerto Rico. The Review of Economics and Statistics, 80(3), 365–373.', '', 'Gumpert, A., Hines, J. R., & Schnitzer, M. (2016). Multinational Firms and Tax Havens. The Review of Economics and Statistics, 98(4), 713–727.', '', 'Guvenen, F., Mataloni, J., Raymond J., Rassier, D. G., & Ruhl, K. J. (2022). Offshore Profit Shifting and Aggregate Measurement: Balance of Payments, Foreign Investment, Productivity, and the Labor Share. American Economic Review, 112(6), 1848–84.', '', 'Hanappi, T., & Cabral, A. C. G. (2020). The impact of the Pillar One and Pillar Two proposals on MNE’s investment costs: An analysis using forward-looking effective tax rates (OECD Taxation Working Papers No. 50). OECD. OECD publishing.', '', 'Head, K., & Mayer, T. (2004). Market Potential and the Location of Japanese Investment in the European Union. The Review of Economics and Statistics, 86(4), 959–972.', '', 'Head, K., & Mayer, T. (2019). Brands in motion: How frictions shape multinational production. American Economic Review, 109(9), 3073–3124.', '', 'Hebous, S., & Keen, M. (2021). Pareto-Improving Minimum Corporate Taxation (IMF Working Papers No. 2021/250). International Monetary Fund.', '', 'Hines, J., & Rice, E. M. (1994). Fiscal Paradise: Foreign Tax Havens and American Business. The Quarterly Journal of Economics, 109(1), 149–182.', '', 'International Monetary Fund. (2019). Corporate Taxation in the Global Economy. IMF.', '', 'Irish Department of Finance. (2022). Consultation on Pillar Two Minimum Tax Rate Implementation. Tax Division of the Department of Finance.', '', 'Janeba, E., & Schjelderup, G. (2022). The Global Minimum Tax Raises More Revenues than You Think, or Much Less (CESifo Working Paper Series No. 9623).', '', 'Jansky, P., Meinzer, M., Palansky, M., Ates, L., Cobham, A., Harari, M., & Millan-Narotzky, L. (2020). The Corporate Tax Haven Index: A New Geography of Profit Shifting (Working Papers IES No. 2020/38). Charles University Prague.', '', 'Janský, P., & Palanský, M. (2019). Estimating the Scale of Profit Shifting and Tax Revenue Losses Related to Foreign Direct Investment. International Tax and Public Finance, 26(5), 1048–1103.', '', 'Johannesen, N. (2022). The global minimum tax. Journal of Public Economics, 212, 104709.', '', 'Laﬃtte, S., Martin, J., Parenti, M., Souillard, B., & Toubal, F. (2021). Taxation of Multinationals: Design and Quantification (Focus No. 64). Conseil d’Analyse Economique.', '', 'Laﬃtte, S., & Toubal, F. (2022). Multinationals’ Sales and Profit Shifting in Tax Havens. American Economic Journal: Economic Policy, 14(4), 371–393.', '', 'Levin, C. (2014). Caterpillar’s Offshore Tax Strategy. Permanent Subcommittee on Investigations, U.S. Senate.', '', 'Lind, N., & Ramondo, N. (2023). Trade with Correlation. American Economic Review, 113(2), 317–53.', '', 'McFadden, D. (1978). Modelling the choice of residential location. Spatial Interaction Theory and Planning Models (pp. 75–96). North Holland.', '', 'Mutti, J., & Ohrn, E. (2019). Taxes and the Location of U.S. Business Activity Abroad. National Tax Journal,']\n",
      "Saved extracted references to 'out\\2211.04388.json'\n"
     ]
    }
   ],
   "execution_count": 21
  },
  {
   "metadata": {},
   "cell_type": "code",
   "outputs": [],
   "execution_count": null,
   "source": "",
   "id": "61385073063f48e5"
  }
 ],
 "metadata": {
  "kernelspec": {
   "display_name": "Python 3",
   "language": "python",
   "name": "python3"
  },
  "language_info": {
   "codemirror_mode": {
    "name": "ipython",
    "version": 2
   },
   "file_extension": ".py",
   "mimetype": "text/x-python",
   "name": "python",
   "nbconvert_exporter": "python",
   "pygments_lexer": "ipython2",
   "version": "2.7.6"
  }
 },
 "nbformat": 4,
 "nbformat_minor": 5
}
